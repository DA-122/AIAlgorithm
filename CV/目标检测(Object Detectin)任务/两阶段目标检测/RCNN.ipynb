{
 "cells": [
  {
   "attachments": {},
   "cell_type": "markdown",
   "metadata": {},
   "source": [
    "# RCNN\n",
    "[Rich feature hierarchies for accurate object detection and semantic segmentation](https://arxiv.org/abs/1311.2524)\n",
    "## 主要贡献\n",
    "1. 首次将CNN方法引入了目标检测领域，使用CNN特征提取代替手工特征提取，大大提高目标检测效果。RCNN使用了两个数据集，一个较大的分类数据集（ImageNet ILSVC 2012）和一个较小的检测数据集(PASCAL VOC 2007)。在分类数据集上预训练CNN，在检测数据集上进行微调。\n",
    "2. 经典目标检测算法使用滑动窗口一次判断所有可能区域，RCNN提出了Selective Search方法，先提取一系列的候选框，在这些候选区域上进行特征提取。\n",
    "\n",
    "## RCNN算法步骤\n",
    "\n",
    "<div align =center><img src = \"./img/RCNN.jpg\", style=\"height:20%;width:20%;\"/></div>\n",
    "\n",
    "1. 候选区域(region proposals)生成： 一张图像生成1K~2K个候选区域 （采用Selective Search 方法）\n",
    "2. 特征提取： 对每个候选区域，使用深度卷积网络提取特征 （CNN）\n",
    "3. 类别判断： 特征送入每一类的 SVM 分类器，判别是否属于该类\n",
    "4. 位置精修： 使用回归器精细修正候选框位置\n",
    "\n",
    "### Selective Search思想："
   ]
  },
  {
   "cell_type": "code",
   "execution_count": null,
   "metadata": {},
   "outputs": [],
   "source": [
    "\n"
   ]
  }
 ],
 "metadata": {
  "language_info": {
   "name": "python"
  },
  "orig_nbformat": 4
 },
 "nbformat": 4,
 "nbformat_minor": 2
}
