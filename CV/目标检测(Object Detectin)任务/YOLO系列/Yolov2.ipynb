{
 "cells": [
  {
   "attachments": {},
   "cell_type": "markdown",
   "metadata": {},
   "source": [
    "# Yolov2\n",
    "[CVPR 2017 [YOLO9000: Better, Faster, Stronger]](https://arxiv.org/abs/1612.08242)\n",
    "\n",
    "## 回顾Yolov1\n",
    "* Yolov1中的每个cell只预测两个bbox和一个类别，限制了能预测重叠或临近物体的数量。\n",
    "* Yolov1是根据训练数据来预测bbox，测试数据中的物体如果出现了训练数据中没有的长宽比时，预测效果很差。（因为一阶段是回归问题，泛化能力差）\n",
    "* 多次下采样后，最终得到的feature分辨率低，会影响物体定位。\n",
    "* 损失函数设计存在缺陷，定位误差大。\n",
    "## Yolov2创新点\n",
    "* 使用了一系列优化策略，保持原有速度的同时提升了精度；\n",
    "\n",
    "<div align =center><img src = \"./img/yolov2_optim.png\", style=\"height:70%;width:70%;\"/></div>\n",
    "\n",
    "* 提出了目标分类与检测的联合训练方法\n",
    "\n"
   ]
  },
  {
   "cell_type": "code",
   "execution_count": null,
   "metadata": {},
   "outputs": [],
   "source": []
  }
 ],
 "metadata": {
  "language_info": {
   "name": "python"
  },
  "orig_nbformat": 4
 },
 "nbformat": 4,
 "nbformat_minor": 2
}
