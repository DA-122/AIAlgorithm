{
 "cells": [
  {
   "attachments": {},
   "cell_type": "markdown",
   "metadata": {},
   "source": [
    "# 文本数据预处理\n",
    "## 步骤\n",
    "1. 将文本作为字符串加载到内存中。\n",
    " \n",
    "2. 将字符串拆分为词元（如单词和字符）。\n",
    "\n",
    "3. 建立一个词表，将拆分的词元映射到数字索引。\n",
    "\n",
    "4. 将文本转换为数字索引序列，方便模型操作。"
   ]
  },
  {
   "cell_type": "code",
   "execution_count": null,
   "metadata": {},
   "outputs": [],
   "source": []
  }
 ],
 "metadata": {
  "language_info": {
   "name": "python"
  },
  "orig_nbformat": 4
 },
 "nbformat": 4,
 "nbformat_minor": 2
}
