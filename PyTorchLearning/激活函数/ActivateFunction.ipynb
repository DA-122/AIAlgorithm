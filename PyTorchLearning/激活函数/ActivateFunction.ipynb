{
 "cells": [
  {
   "attachments": {},
   "cell_type": "markdown",
   "metadata": {},
   "source": []
  },
  {
   "cell_type": "code",
   "execution_count": 1,
   "metadata": {},
   "outputs": [
    {
     "ename": "ValueError",
     "evalue": "num must be 1 <= num <= 2, not 0",
     "output_type": "error",
     "traceback": [
      "\u001b[1;31m---------------------------------------------------------------------------\u001b[0m",
      "\u001b[1;31mValueError\u001b[0m                                Traceback (most recent call last)",
      "\u001b[1;32me:\\Algorithm\\AI\\BasicModel\\ActivationFunction\\ReLUs.ipynb Cell 2\u001b[0m in \u001b[0;36m2\n\u001b[0;32m     <a href='vscode-notebook-cell:/e%3A/Algorithm/AI/BasicModel/ActivationFunction/ReLUs.ipynb#W1sZmlsZQ%3D%3D?line=18'>19</a>\u001b[0m y1,g1 \u001b[39m=\u001b[39m relu(x)\n\u001b[0;32m     <a href='vscode-notebook-cell:/e%3A/Algorithm/AI/BasicModel/ActivationFunction/ReLUs.ipynb#W1sZmlsZQ%3D%3D?line=19'>20</a>\u001b[0m y2,g2 \u001b[39m=\u001b[39m leakyRelu(x)\n\u001b[1;32m---> <a href='vscode-notebook-cell:/e%3A/Algorithm/AI/BasicModel/ActivationFunction/ReLUs.ipynb#W1sZmlsZQ%3D%3D?line=21'>22</a>\u001b[0m show_img(x\u001b[39m.\u001b[39;49mdetach(),[y1,g1],[\u001b[39m\"\u001b[39;49m\u001b[39mReLU\u001b[39;49m\u001b[39m\"\u001b[39;49m,\u001b[39m\"\u001b[39;49m\u001b[39mgrad\u001b[39;49m\u001b[39m\"\u001b[39;49m])\n\u001b[0;32m     <a href='vscode-notebook-cell:/e%3A/Algorithm/AI/BasicModel/ActivationFunction/ReLUs.ipynb#W1sZmlsZQ%3D%3D?line=22'>23</a>\u001b[0m show_img(x\u001b[39m.\u001b[39mdetach(),[g1,g2],[\u001b[39m\"\u001b[39m\u001b[39mLeakyReLU\u001b[39m\u001b[39m\"\u001b[39m,\u001b[39m\"\u001b[39m\u001b[39mgrad\u001b[39m\u001b[39m\"\u001b[39m])\n",
      "File \u001b[1;32me:\\Algorithm\\AI\\BasicModel\\ActivationFunction\\utils.py:8\u001b[0m, in \u001b[0;36mshow_img\u001b[1;34m(x, y_pois, titles)\u001b[0m\n\u001b[0;32m      6\u001b[0m \u001b[39m# axes = []\u001b[39;00m\n\u001b[0;32m      7\u001b[0m \u001b[39mfor\u001b[39;00m i,y \u001b[39min\u001b[39;00m \u001b[39menumerate\u001b[39m(y_pois):\n\u001b[1;32m----> 8\u001b[0m     ax \u001b[39m=\u001b[39m fig\u001b[39m.\u001b[39;49madd_subplot(\u001b[39m1\u001b[39;49m,\u001b[39m2\u001b[39;49m,i)\n\u001b[0;32m      9\u001b[0m     ax\u001b[39m.\u001b[39mplot(x,y,color \u001b[39m=\u001b[39m \u001b[39m'\u001b[39m\u001b[39mblue\u001b[39m\u001b[39m'\u001b[39m)\n\u001b[0;32m     10\u001b[0m     ax\u001b[39m.\u001b[39mgrid()\n",
      "File \u001b[1;32md:\\Software\\Anaconda\\envs\\d2l\\lib\\site-packages\\matplotlib\\figure.py:772\u001b[0m, in \u001b[0;36mFigureBase.add_subplot\u001b[1;34m(self, *args, **kwargs)\u001b[0m\n\u001b[0;32m    769\u001b[0m         args \u001b[39m=\u001b[39m \u001b[39mtuple\u001b[39m(\u001b[39mmap\u001b[39m(\u001b[39mint\u001b[39m, \u001b[39mstr\u001b[39m(args[\u001b[39m0\u001b[39m])))\n\u001b[0;32m    770\u001b[0m     projection_class, pkw \u001b[39m=\u001b[39m \u001b[39mself\u001b[39m\u001b[39m.\u001b[39m_process_projection_requirements(\n\u001b[0;32m    771\u001b[0m         \u001b[39m*\u001b[39margs, \u001b[39m*\u001b[39m\u001b[39m*\u001b[39mkwargs)\n\u001b[1;32m--> 772\u001b[0m     ax \u001b[39m=\u001b[39m subplot_class_factory(projection_class)(\u001b[39mself\u001b[39m, \u001b[39m*\u001b[39margs, \u001b[39m*\u001b[39m\u001b[39m*\u001b[39mpkw)\n\u001b[0;32m    773\u001b[0m     key \u001b[39m=\u001b[39m (projection_class, pkw)\n\u001b[0;32m    774\u001b[0m \u001b[39mreturn\u001b[39;00m \u001b[39mself\u001b[39m\u001b[39m.\u001b[39m_add_axes_internal(ax, key)\n",
      "File \u001b[1;32md:\\Software\\Anaconda\\envs\\d2l\\lib\\site-packages\\matplotlib\\axes\\_subplots.py:36\u001b[0m, in \u001b[0;36mSubplotBase.__init__\u001b[1;34m(self, fig, *args, **kwargs)\u001b[0m\n\u001b[0;32m     34\u001b[0m \u001b[39mself\u001b[39m\u001b[39m.\u001b[39m_axes_class\u001b[39m.\u001b[39m\u001b[39m__init__\u001b[39m(\u001b[39mself\u001b[39m, fig, [\u001b[39m0\u001b[39m, \u001b[39m0\u001b[39m, \u001b[39m1\u001b[39m, \u001b[39m1\u001b[39m], \u001b[39m*\u001b[39m\u001b[39m*\u001b[39mkwargs)\n\u001b[0;32m     35\u001b[0m \u001b[39m# This will also update the axes position.\u001b[39;00m\n\u001b[1;32m---> 36\u001b[0m \u001b[39mself\u001b[39m\u001b[39m.\u001b[39mset_subplotspec(SubplotSpec\u001b[39m.\u001b[39;49m_from_subplot_args(fig, args))\n",
      "File \u001b[1;32md:\\Software\\Anaconda\\envs\\d2l\\lib\\site-packages\\matplotlib\\gridspec.py:608\u001b[0m, in \u001b[0;36mSubplotSpec._from_subplot_args\u001b[1;34m(figure, args)\u001b[0m\n\u001b[0;32m    606\u001b[0m \u001b[39melse\u001b[39;00m:\n\u001b[0;32m    607\u001b[0m     \u001b[39mif\u001b[39;00m \u001b[39mnot\u001b[39;00m \u001b[39misinstance\u001b[39m(num, Integral) \u001b[39mor\u001b[39;00m num \u001b[39m<\u001b[39m \u001b[39m1\u001b[39m \u001b[39mor\u001b[39;00m num \u001b[39m>\u001b[39m rows\u001b[39m*\u001b[39mcols:\n\u001b[1;32m--> 608\u001b[0m         \u001b[39mraise\u001b[39;00m \u001b[39mValueError\u001b[39;00m(\n\u001b[0;32m    609\u001b[0m             \u001b[39mf\u001b[39m\u001b[39m\"\u001b[39m\u001b[39mnum must be 1 <= num <= \u001b[39m\u001b[39m{\u001b[39;00mrows\u001b[39m*\u001b[39mcols\u001b[39m}\u001b[39;00m\u001b[39m, not \u001b[39m\u001b[39m{\u001b[39;00mnum\u001b[39m!r}\u001b[39;00m\u001b[39m\"\u001b[39m)\n\u001b[0;32m    610\u001b[0m     i \u001b[39m=\u001b[39m j \u001b[39m=\u001b[39m num\n\u001b[0;32m    611\u001b[0m \u001b[39mreturn\u001b[39;00m gs[i\u001b[39m-\u001b[39m\u001b[39m1\u001b[39m:j]\n",
      "\u001b[1;31mValueError\u001b[0m: num must be 1 <= num <= 2, not 0"
     ]
    },
    {
     "data": {
      "text/plain": [
       "<Figure size 640x480 with 0 Axes>"
      ]
     },
     "metadata": {},
     "output_type": "display_data"
    }
   ],
   "source": [
    "import torch\n",
    "from utils import show_img\n",
    "\n",
    "# x = np.linspace(-10,10)\n",
    "x = torch.linspace(-10,10,steps = 50,requires_grad=True)\n",
    "v = torch.ones_like(x)\n",
    "\n",
    "\n",
    "def relu(x):\n",
    "    y = torch.maximum(torch.zeros_like(x),x)\n",
    "    y.backward(v)\n",
    "    return y.detach(),x.grad.detach()\n",
    "\n",
    "def leakyRelu(x):\n",
    "    y = torch.maximum(x*0.1,x)\n",
    "    y.backward(v)\n",
    "    return y.detach(),x.grad.detach()\n",
    "\n",
    "y1,g1 = relu(x)\n",
    "y2,g2 = leakyRelu(x)\n",
    "\n",
    "show_img(x.detach(),[y1,g1],[\"ReLU\",\"grad\"])\n",
    "show_img(x.detach(),[g1,g2],[\"LeakyReLU\",\"grad\"])"
   ]
  }
 ],
 "metadata": {
  "kernelspec": {
   "display_name": "d2l",
   "language": "python",
   "name": "python3"
  },
  "language_info": {
   "codemirror_mode": {
    "name": "ipython",
    "version": 3
   },
   "file_extension": ".py",
   "mimetype": "text/x-python",
   "name": "python",
   "nbconvert_exporter": "python",
   "pygments_lexer": "ipython3",
   "version": "3.9.16"
  },
  "orig_nbformat": 4
 },
 "nbformat": 4,
 "nbformat_minor": 2
}
