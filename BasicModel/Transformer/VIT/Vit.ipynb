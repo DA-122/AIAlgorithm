{
 "cells": [
  {
   "attachments": {},
   "cell_type": "markdown",
   "metadata": {},
   "source": [
    "InstDisc - 个体判别任务\n",
    "InvaSpread - SimCLR前身\n",
    "CPC - 预测任务\n",
    "CMC - 多视角对比学习 - （多模态、多感知）"
   ]
  },
  {
   "cell_type": "code",
   "execution_count": null,
   "metadata": {},
   "outputs": [],
   "source": []
  }
 ],
 "metadata": {
  "language_info": {
   "name": "python"
  },
  "orig_nbformat": 4
 },
 "nbformat": 4,
 "nbformat_minor": 2
}
