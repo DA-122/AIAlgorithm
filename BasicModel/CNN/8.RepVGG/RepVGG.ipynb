{
 "cells": [
  {
   "attachments": {},
   "cell_type": "markdown",
   "metadata": {},
   "source": [
    "# RepVGG\n",
    "[CVPR 2021 [Making VGG-style ConvNets Great Again] ](https://arxiv.org/abs/2101.03697)"
   ]
  },
  {
   "cell_type": "code",
   "execution_count": null,
   "metadata": {},
   "outputs": [],
   "source": []
  }
 ],
 "metadata": {
  "language_info": {
   "name": "python"
  },
  "orig_nbformat": 4
 },
 "nbformat": 4,
 "nbformat_minor": 2
}
